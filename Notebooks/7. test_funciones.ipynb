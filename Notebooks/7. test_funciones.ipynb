{
 "cells": [
  {
   "cell_type": "markdown",
   "metadata": {},
   "source": [
    "# 4. Prueba de consultas\n",
    "\n",
    "En esta seccion probamos las consultas"
   ]
  },
  {
   "cell_type": "code",
   "execution_count": 2,
   "metadata": {},
   "outputs": [],
   "source": [
    "import os\n",
    "import pandas as pd"
   ]
  },
  {
   "cell_type": "code",
   "execution_count": 3,
   "metadata": {},
   "outputs": [],
   "source": [
    "data_mvp_funciones = pd.read_csv(os.path.join('D:\\Bootcamp\\Henry\\CURSO\\Proyecto Individual 1\\Movies\\Pipeline','data_movies_subset_limpia.csv'),index_col=0).convert_dtypes()\n",
    "data_mvp_funciones_final = pd.read_csv(os.path.join('D:\\Bootcamp\\Henry\\CURSO\\Proyecto Individual 1\\Movies\\Output','data_mvp_final_ml.csv'),index_col=0).convert_dtypes()\n",
    "data_mvp_director = pd.read_csv(os.path.join('D:\\Bootcamp\\Henry\\CURSO\\Proyecto Individual 1\\Movies\\Output','data_mvp_final_funciones_exitodir.csv'),index_col=0).convert_dtypes()\n",
    "data_mvp_recomendacion = pd.read_csv(os.path.join('D:\\Bootcamp\\Henry\\CURSO\\Proyecto Individual 1\\Movies\\Output','data_mvp_ml_recomend_indexed.csv'),index_col=[0,1]).convert_dtypes()\n",
    "data_mvp_actor = pd.read_csv(os.path.join('D:\\Bootcamp\\Henry\\CURSO\\Proyecto Individual 1\\Movies\\Pipeline','credits_normalizada.csv'),index_col=0).convert_dtypes()"
   ]
  },
  {
   "cell_type": "markdown",
   "metadata": {},
   "source": [
    "### 1. def cantidad_filmaciones_mes( Mes ): \n",
    "Se ingresa un mes en idioma Español. Debe devolver la cantidad de películas que fueron estrenadas en el mes consultado en la totalidad del dataset."
   ]
  },
  {
   "cell_type": "code",
   "execution_count": 4,
   "metadata": {},
   "outputs": [],
   "source": [
    "def cantidad_filmaciones_mes(mes: str):\n",
    "    # Crear un diccionario para convertir los meses en español a números\n",
    "    meses = {\n",
    "        'enero': 1, 'febrero': 2, 'marzo': 3, 'abril': 4,\n",
    "        'mayo': 5, 'junio': 6, 'julio': 7, 'agosto': 8,\n",
    "        'septiembre': 9, 'octubre': 10, 'noviembre': 11, 'diciembre': 12\n",
    "    }\n",
    "    \n",
    "    # Convertir el mes a minúsculas para asegurar la coincidencia\n",
    "    mes = mes.lower()\n",
    "    \n",
    "    if mes not in meses:\n",
    "        raise ValueError(\"Mes inválido. Por favor ingrese un mes válido en español.\")\n",
    "    \n",
    "    # Obtener el número correspondiente al mes\n",
    "    mes_numero = meses[mes]\n",
    "    \n",
    "    # Convertir la columna de fechas a datetime si no lo está ya\n",
    "    data_mvp_funciones ['release_date'] = pd.to_datetime(data_mvp_funciones['release_date'], errors='coerce')\n",
    "    \n",
    "    # Filtrar el DataFrame por el mes\n",
    "    peliculas_mes = data_mvp_funciones[data_mvp_funciones['release_date'].dt.month == mes_numero]\n",
    "    \n",
    "    # Devolver la cantidad de filmaciones en ese mes\n",
    "    return f\"{len(peliculas_mes)} cantidad de peliculas fueron estrenadas en el mes de {mes}\""
   ]
  },
  {
   "cell_type": "code",
   "execution_count": 5,
   "metadata": {},
   "outputs": [
    {
     "name": "stdout",
     "output_type": "stream",
     "text": [
      "3781 cantidad de peliculas fueron estrenadas en el mes de diciembre\n"
     ]
    }
   ],
   "source": [
    "print(cantidad_filmaciones_mes('diciembre'))"
   ]
  },
  {
   "cell_type": "markdown",
   "metadata": {},
   "source": [
    "### 2. def cantidad_filmaciones_dia( Dia ): \n",
    "Se ingresa un día en idioma Español. Debe devolver la cantidad de películas que fueron estrenadas en día consultado en la totalidad del dataset."
   ]
  },
  {
   "cell_type": "code",
   "execution_count": 6,
   "metadata": {},
   "outputs": [],
   "source": [
    "def cantidad_filmaciones_dia(dia: str):\n",
    "    # Crear un diccionario para convertir los días de la semana en español a números\n",
    "    dias_semana = {\n",
    "        'lunes': 0, 'martes': 1, 'miércoles': 2, 'jueves': 3,\n",
    "        'viernes': 4, 'sábado': 5, 'domingo': 6\n",
    "    }\n",
    "    \n",
    "    # Convertir el día a minúsculas para asegurar la coincidencia\n",
    "    dia = dia.lower()\n",
    "    \n",
    "    if dia not in dias_semana:\n",
    "        raise ValueError(\"Día inválido. Por favor ingrese un día válido en español.\")\n",
    "    \n",
    "    # Obtener el número correspondiente al día\n",
    "    dia_numero = dias_semana[dia]\n",
    "    \n",
    "    # Convertir la columna de fechas a datetime si no lo está ya\n",
    "    data_mvp_funciones['release_date'] = pd.to_datetime(data_mvp_funciones['release_date'], errors='coerce')\n",
    "    \n",
    "    # Filtrar el DataFrame por el día de la semana\n",
    "    peliculas_dia = data_mvp_funciones[data_mvp_funciones['release_date'].dt.dayofweek == dia_numero]\n",
    "    \n",
    "    # Devolver la cantidad de filmaciones en ese día\n",
    "    return f'{len(peliculas_dia)} cantidad de peliculas fueron estrenadas en los dias {dia}'"
   ]
  },
  {
   "cell_type": "code",
   "execution_count": 7,
   "metadata": {},
   "outputs": [
    {
     "name": "stdout",
     "output_type": "stream",
     "text": [
      "3500 cantidad de peliculas fueron estrenadas en los dias lunes\n"
     ]
    }
   ],
   "source": [
    "print(cantidad_filmaciones_dia('lunes'))"
   ]
  },
  {
   "cell_type": "markdown",
   "metadata": {},
   "source": [
    "### 3. def score_titulo( titulo_de_la_filmación ): \n",
    "Se ingresa el título de una filmación esperando como respuesta el título, el año de estreno y el score."
   ]
  },
  {
   "cell_type": "code",
   "execution_count": 8,
   "metadata": {},
   "outputs": [],
   "source": [
    "def score_titulo(titulo_de_la_filmacion):\n",
    "    # Convertir el título ingresado a minúsculas\n",
    "    titulo_de_la_filmacion = titulo_de_la_filmacion.lower()\n",
    "    \n",
    "    # Filtrar el dataset buscando coincidencias en el título\n",
    "    resultados = data_mvp_funciones[data_mvp_funciones['title'].str.lower().str.contains(titulo_de_la_filmacion, na=False)]\n",
    "    \n",
    "    # Crear una lista de diccionarios con el formato {'título': title, 'año': release_year, 'popularidad': popularity}\n",
    "    lista_resultados = [\n",
    "        {'Título': row['title'], 'Año de estreno': row['release_year'], 'Popularidad': row['popularity']} \n",
    "        for _, row in resultados.iterrows()\n",
    "    ]\n",
    "    \n",
    "    return lista_resultados\n",
    "\n",
    "# Ejemplo de uso\n",
    "# Supongamos que tienes un DataFrame llamado df con las columnas movie_id, title, release_year, y popularity\n",
    "# lista_peliculas = score_titulo('inception')\n",
    "# print(lista_peliculas)\n"
   ]
  },
  {
   "cell_type": "code",
   "execution_count": 9,
   "metadata": {},
   "outputs": [
    {
     "data": {
      "text/plain": [
       "[{'Título': 'Toy Story', 'Año de estreno': 1995, 'Popularidad': 21.946943},\n",
       " {'Título': 'Toy Story 2', 'Año de estreno': 1999, 'Popularidad': 17.547693},\n",
       " {'Título': 'Toy Story 3', 'Año de estreno': 2010, 'Popularidad': 16.96647},\n",
       " {'Título': 'Toy Story of Terror!',\n",
       "  'Año de estreno': 2013,\n",
       "  'Popularidad': 0.512025},\n",
       " {'Título': 'Toy Story That Time Forgot',\n",
       "  'Año de estreno': 2014,\n",
       "  'Popularidad': 8.609555}]"
      ]
     },
     "execution_count": 9,
     "metadata": {},
     "output_type": "execute_result"
    }
   ],
   "source": [
    "score_titulo('toy story')"
   ]
  },
  {
   "cell_type": "markdown",
   "metadata": {},
   "source": [
    "### 4. def votos_titulo( titulo_de_la_filmación ): \n",
    "Se ingresa el título de una filmación esperando como respuesta el título, la cantidad de votos y el valor promedio de las votaciones. La misma variable deberá de contar con al menos 2000 valoraciones, caso contrario, debemos contar con un mensaje avisando que no cumple esta condición y que por ende, no se devuelve ningun valor."
   ]
  },
  {
   "cell_type": "code",
   "execution_count": 10,
   "metadata": {},
   "outputs": [],
   "source": [
    "def votos_titulo(titulo_de_la_filmacion):\n",
    "    # Filtrar por coincidencias en el título, ignorando mayúsculas/minúsculas\n",
    "    coincidencias = data_mvp_funciones[data_mvp_funciones['title'].str.contains(titulo_de_la_filmacion, case=False, na=False)]\n",
    "    \n",
    "    # Lista para almacenar los resultados\n",
    "    resultados = []\n",
    "    \n",
    "    # Recorrer las coincidencias y filtrar por aquellas que tienen al menos 2000 votos\n",
    "    for _, row in coincidencias.iterrows():\n",
    "        if row['vote_count'] >= 2000:\n",
    "            resultado = {\n",
    "                'Título': row['title'],\n",
    "                'Año de estreno': row['release_year'],\n",
    "                'Cantidad de votos': row['vote_count'],\n",
    "                'Puntaje promedio': row['vote_average']\n",
    "            }\n",
    "            resultados.append(resultado)\n",
    "    \n",
    "    # Verificar si se encontraron películas que cumplan con la condición\n",
    "    if resultados:\n",
    "        return resultados\n",
    "    else:\n",
    "        return \"No se encontraron películas con al menos 2000 valoraciones.\"\n",
    "\n"
   ]
  },
  {
   "cell_type": "code",
   "execution_count": 11,
   "metadata": {},
   "outputs": [
    {
     "data": {
      "text/plain": [
       "[{'Título': 'Toy Story',\n",
       "  'Año de estreno': 1995,\n",
       "  'Cantidad de votos': 5415,\n",
       "  'Puntaje promedio': 7.7},\n",
       " {'Título': 'Toy Story 2',\n",
       "  'Año de estreno': 1999,\n",
       "  'Cantidad de votos': 3914,\n",
       "  'Puntaje promedio': 7.3},\n",
       " {'Título': 'Toy Story 3',\n",
       "  'Año de estreno': 2010,\n",
       "  'Cantidad de votos': 4710,\n",
       "  'Puntaje promedio': 7.6}]"
      ]
     },
     "execution_count": 11,
     "metadata": {},
     "output_type": "execute_result"
    }
   ],
   "source": [
    "\n",
    "votos_titulo('Toy Story')"
   ]
  },
  {
   "cell_type": "markdown",
   "metadata": {},
   "source": [
    "### 5. def get_actor( nombre_actor ): \n",
    "Se ingresa el nombre de un actor que se encuentre dentro de un dataset debiendo devolver el éxito del mismo medido a través del retorno. Además, la cantidad de películas que en las que ha participado y el promedio de retorno. La definición no deberá considerar directores."
   ]
  },
  {
   "cell_type": "code",
   "execution_count": 12,
   "metadata": {},
   "outputs": [],
   "source": [
    "def get_actor(nombre_actor:str):\n",
    "    # Filtrar el DataFrame de cast para obtener las filas donde aparece el actor\n",
    "    peliculas_con_actor = data_mvp_actor[data_mvp_actor['prtgnst_name'].str.contains(nombre_actor, case=False, na=False)]\n",
    "    \n",
    "    if peliculas_con_actor.empty:\n",
    "        return f\"No se encontraron películas para el actor: {nombre_actor}\"\n",
    "    \n",
    "    # Eliminar duplicados: quedarse con una sola fila por combinación de movie_id y actor\n",
    "    peliculas_con_actor = peliculas_con_actor.drop_duplicates(subset=['movie_id', 'prtgnst_name'])\n",
    "    \n",
    "    # Unir el DataFrame de películas con el DataFrame de cast usando movie_id\n",
    "    df_actor_movies = peliculas_con_actor.merge(data_mvp_funciones, on='movie_id', how='inner')\n",
    "    \n",
    "    # Calcular la cantidad de películas en las que ha participado el actor\n",
    "    cantidad_peliculas = df_actor_movies.shape[0]\n",
    "    \n",
    "    # Calcular el retorno total y el promedio de retorno para las películas en las que ha participado\n",
    "    retorno_total = df_actor_movies['return'].sum()\n",
    "    promedio_retorno = df_actor_movies['return'].mean()\n",
    "    \n",
    "    return f'El actor {nombre_actor} ha participado en {cantidad_peliculas} cantidad de filmaciones, el mismo a conseguido un retorno de {round(retorno_total,2)} con un promedio {round(promedio_retorno,2)} por filmación.'"
   ]
  },
  {
   "cell_type": "code",
   "execution_count": 13,
   "metadata": {},
   "outputs": [
    {
     "data": {
      "text/plain": [
       "'El actor tom hanks ha participado en 48 cantidad de filmaciones, el mismo a conseguido un retorno de 166.16 con un promedio 4.26 por filmación.'"
      ]
     },
     "execution_count": 13,
     "metadata": {},
     "output_type": "execute_result"
    }
   ],
   "source": [
    "get_actor('tom hanks')"
   ]
  },
  {
   "cell_type": "markdown",
   "metadata": {},
   "source": [
    "### 6. def get_director( nombre_director ): \n",
    "Se ingresa el nombre de un director que se encuentre dentro de un dataset debiendo devolver el éxito del mismo medido a través del retorno. Además, deberá devolver el nombre de cada película con la fecha de lanzamiento, retorno individual, costo y ganancia de la misma."
   ]
  },
  {
   "cell_type": "code",
   "execution_count": 14,
   "metadata": {},
   "outputs": [],
   "source": [
    "def get_director(nombre_director: str):\n",
    "    director_subset = data_mvp_director.loc[\n",
    "        data_mvp_director['director'].str.contains(nombre_director,case=False, na=False)]\n",
    "    director_return = director_subset['director_return'].drop_duplicates()\n",
    "    director_return_res = round(float(director_return.iloc[0]),2)\n",
    "    columns_peliculas=['movie_id','title','release_date','budget','revenue','return']\n",
    "    director_peliculas = director_subset[columns_peliculas].drop_duplicates().fillna(0) ### OJO se colocó fillna(0) para corregir el error de NAType\n",
    "    peliculas = []\n",
    "    for _, pelicula in director_peliculas.iterrows():\n",
    "        pelicula_info = {\n",
    "            'nombre': pelicula['title'],\n",
    "            'fecha_lanzamiento': pelicula['release_date'],\n",
    "            'costo (USD)': ('{:,}'.format(round(pelicula['budget']))),\n",
    "            'ganancia (USD)': ('{:,}'.format(round(pelicula['revenue']))),\n",
    "            'retorno (ratio)': round(pelicula['return'],2)\n",
    "        }\n",
    "        peliculas.append(pelicula_info)\n",
    "    return {\n",
    "        'director': nombre_director,\n",
    "        'retorno total': director_return_res,\n",
    "        'peliculas': peliculas }\n"
   ]
  },
  {
   "cell_type": "code",
   "execution_count": 18,
   "metadata": {},
   "outputs": [
    {
     "data": {
      "text/plain": [
       "{'director': 'james cameron',\n",
       " 'retorno total': 7.76,\n",
       " 'peliculas': [{'nombre': 'True Lies',\n",
       "   'fecha_lanzamiento': '1994-07-14',\n",
       "   'costo (USD)': '115,000,000',\n",
       "   'ganancia (USD)': '378,882,411',\n",
       "   'retorno (ratio)': 3.29},\n",
       "  {'nombre': 'Terminator 2: Judgment Day',\n",
       "   'fecha_lanzamiento': '1991-07-01',\n",
       "   'costo (USD)': '100,000,000',\n",
       "   'ganancia (USD)': '520,000,000',\n",
       "   'retorno (ratio)': 5.2},\n",
       "  {'nombre': 'The Abyss',\n",
       "   'fecha_lanzamiento': '1989-08-09',\n",
       "   'costo (USD)': '70,000,000',\n",
       "   'ganancia (USD)': '90,000,098',\n",
       "   'retorno (ratio)': 1.29},\n",
       "  {'nombre': 'Aliens',\n",
       "   'fecha_lanzamiento': '1986-07-18',\n",
       "   'costo (USD)': '18,500,000',\n",
       "   'ganancia (USD)': '183,316,455',\n",
       "   'retorno (ratio)': 9.91},\n",
       "  {'nombre': 'The Terminator',\n",
       "   'fecha_lanzamiento': '1984-10-26',\n",
       "   'costo (USD)': '6,400,000',\n",
       "   'ganancia (USD)': '78,371,200',\n",
       "   'retorno (ratio)': 12.25},\n",
       "  {'nombre': 'Titanic',\n",
       "   'fecha_lanzamiento': '1997-11-18',\n",
       "   'costo (USD)': '200,000,000',\n",
       "   'ganancia (USD)': '1,845,034,188',\n",
       "   'retorno (ratio)': 9.23},\n",
       "  {'nombre': 'Piranha Part Two: The Spawning',\n",
       "   'fecha_lanzamiento': '1981-01-01',\n",
       "   'costo (USD)': '145,786',\n",
       "   'ganancia (USD)': '0',\n",
       "   'retorno (ratio)': 0.0},\n",
       "  {'nombre': 'Ghosts of the Abyss',\n",
       "   'fecha_lanzamiento': '2003-04-10',\n",
       "   'costo (USD)': '13,000,000',\n",
       "   'ganancia (USD)': '17,040,871',\n",
       "   'retorno (ratio)': 1.31},\n",
       "  {'nombre': 'Aliens of the Deep',\n",
       "   'fecha_lanzamiento': '2005-01-21',\n",
       "   'costo (USD)': '0',\n",
       "   'ganancia (USD)': '0',\n",
       "   'retorno (ratio)': 0.0},\n",
       "  {'nombre': 'Avatar',\n",
       "   'fecha_lanzamiento': '2009-12-10',\n",
       "   'costo (USD)': '237,000,000',\n",
       "   'ganancia (USD)': '2,787,965,087',\n",
       "   'retorno (ratio)': 11.76},\n",
       "  {'nombre': 'Avatar 2',\n",
       "   'fecha_lanzamiento': '2020-12-16',\n",
       "   'costo (USD)': '0',\n",
       "   'ganancia (USD)': '0',\n",
       "   'retorno (ratio)': 0.0},\n",
       "  {'nombre': 'T2 3-D: Battle Across Time',\n",
       "   'fecha_lanzamiento': '1996-01-01',\n",
       "   'costo (USD)': '0',\n",
       "   'ganancia (USD)': '0',\n",
       "   'retorno (ratio)': 0.0}]}"
      ]
     },
     "execution_count": 18,
     "metadata": {},
     "output_type": "execute_result"
    }
   ],
   "source": [
    "# test\n",
    "get_director('james cameron')"
   ]
  },
  {
   "cell_type": "markdown",
   "metadata": {},
   "source": [
    "### 7. def recomendacion(titulo): \n",
    "Se ingresa el nombre de una película y te recomienda las similares en una lista de 5 valores."
   ]
  },
  {
   "cell_type": "code",
   "execution_count": 16,
   "metadata": {},
   "outputs": [
    {
     "data": {
      "text/plain": [
       "{'pelicula': 'Toy Story',\n",
       " 'recomendaciones': ['Class of 1984',\n",
       "  'Totally Fucked Up',\n",
       "  'Dollman vs. Demonic Toys',\n",
       "  'Halloweentown',\n",
       "  \"City Slickers II: The Legend of Curly's Gold\"]}"
      ]
     },
     "execution_count": 16,
     "metadata": {},
     "output_type": "execute_result"
    }
   ],
   "source": [
    "#@app.get(\"/recomendacion_pelicula/{titulo_pelicula}\")\n",
    "# definimos\n",
    "def recomendacion_pelicula(titulo_pelicula: str):\n",
    "    recomendacion_subset = data_mvp_recomendacion.loc[\n",
    "        data_mvp_recomendacion['title'].isin([titulo_pelicula])]\n",
    "    pelicula_vecinos = recomendacion_subset[['vecino_title']].reset_index().drop_duplicates()\n",
    "    pelicula_recomend = list(pelicula_vecinos['vecino_title'])\n",
    "    return {\n",
    "        'pelicula': titulo_pelicula,\n",
    "        'recomendaciones': pelicula_recomend[:5]}\n",
    "# test\n",
    "recomendacion_pelicula('Toy Story')"
   ]
  }
 ],
 "metadata": {
  "kernelspec": {
   "display_name": "fastapienv",
   "language": "python",
   "name": "python3"
  },
  "language_info": {
   "codemirror_mode": {
    "name": "ipython",
    "version": 3
   },
   "file_extension": ".py",
   "mimetype": "text/x-python",
   "name": "python",
   "nbconvert_exporter": "python",
   "pygments_lexer": "ipython3",
   "version": "3.9.13"
  }
 },
 "nbformat": 4,
 "nbformat_minor": 2
}
