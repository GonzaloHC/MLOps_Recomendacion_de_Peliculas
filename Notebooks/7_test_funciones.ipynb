{
 "cells": [
  {
   "cell_type": "markdown",
   "metadata": {},
   "source": [
    "# 4. Prueba de consultas\n",
    "\n",
    "En esta seccion probamos las consultas"
   ]
  },
  {
   "cell_type": "code",
   "execution_count": 24,
   "metadata": {},
   "outputs": [],
   "source": [
    "import os\n",
    "import pandas as pd"
   ]
  },
  {
   "cell_type": "code",
   "execution_count": 25,
   "metadata": {},
   "outputs": [],
   "source": [
    "data_mvp_funciones = pd.read_csv(os.path.join('D:\\Bootcamp\\Henry\\CURSO\\Proyecto Individual 1\\Movies\\Output','data_mvp_final_funciones.csv'),index_col=0).convert_dtypes()\n",
    "data_mvp_funciones_final = pd.read_csv(os.path.join('D:\\Bootcamp\\Henry\\CURSO\\Proyecto Individual 1\\Movies\\Output','data_mvp_final_ml.csv'),index_col=0).convert_dtypes()\n",
    "data_mvp_director = pd.read_csv(os.path.join('D:\\Bootcamp\\Henry\\CURSO\\Proyecto Individual 1\\Movies\\Output','data_mvp_final_funciones_exitodir.csv'),index_col=0).convert_dtypes()\n",
    "data_mvp_recomendacion = pd.read_csv(os.path.join('D:\\Bootcamp\\Henry\\CURSO\\Proyecto Individual 1\\Movies\\Output','data_mvp_ml_recomend_indexed.csv'),index_col=[0,1]).convert_dtypes()\n",
    "data_nvp_actor = pd.read_csv(os.path.join('D:\\Bootcamp\\Henry\\CURSO\\Proyecto Individual 1\\Movies\\Pipeline','credits_normalizada.csv'),index_col=0).convert_dtypes()"
   ]
  },
  {
   "cell_type": "markdown",
   "metadata": {},
   "source": [
    "### 1. def cantidad_filmaciones_mes( Mes ): Se ingresa un mes en idioma Español. Debe devolver la cantidad de películas que fueron estrenadas en el mes consultado en la totalidad del dataset."
   ]
  },
  {
   "cell_type": "code",
   "execution_count": 26,
   "metadata": {},
   "outputs": [],
   "source": [
    "def cantidad_filmaciones_mes(mes: str):\n",
    "    # Crear un diccionario para convertir los meses en español a números\n",
    "    meses = {\n",
    "        'enero': 1, 'febrero': 2, 'marzo': 3, 'abril': 4,\n",
    "        'mayo': 5, 'junio': 6, 'julio': 7, 'agosto': 8,\n",
    "        'septiembre': 9, 'octubre': 10, 'noviembre': 11, 'diciembre': 12\n",
    "    }\n",
    "    \n",
    "    # Convertir el mes a minúsculas para asegurar la coincidencia\n",
    "    mes = mes.lower()\n",
    "    \n",
    "    if mes not in meses:\n",
    "        raise ValueError(\"Mes inválido. Por favor ingrese un mes válido en español.\")\n",
    "    \n",
    "    # Obtener el número correspondiente al mes\n",
    "    mes_numero = meses[mes]\n",
    "    \n",
    "    # Convertir la columna de fechas a datetime si no lo está ya\n",
    "    data_mvp_funciones ['release_date'] = pd.to_datetime(data_mvp_funciones['release_date'], errors='coerce')\n",
    "    \n",
    "    # Filtrar el DataFrame por el mes\n",
    "    peliculas_mes = data_mvp_funciones[data_mvp_funciones['release_date'].dt.month == mes_numero]\n",
    "    \n",
    "    # Devolver la cantidad de filmaciones en ese mes\n",
    "    return f\"{len(peliculas_mes)} cantidad de peliculas fueron estrenadas en el mes de {mes}\"\n",
    "\n",
    "# Ejemplo de uso:\n",
    "# df = pd.read_csv('ruta_al_archivo.csv')\n",
    "# print(cantidad_filmaciones_mes('enero', df))"
   ]
  },
  {
   "cell_type": "code",
   "execution_count": 27,
   "metadata": {},
   "outputs": [
    {
     "name": "stdout",
     "output_type": "stream",
     "text": [
      "4240 cantidad de peliculas fueron estrenadas en el mes de junio\n"
     ]
    }
   ],
   "source": [
    "print(cantidad_filmaciones_mes('junio'))"
   ]
  },
  {
   "cell_type": "markdown",
   "metadata": {},
   "source": [
    "### 2. def cantidad_filmaciones_dia( Dia ): Se ingresa un día en idioma Español. Debe devolver la cantidad de películas que fueron estrenadas en día consultado en la totalidad del dataset."
   ]
  },
  {
   "cell_type": "code",
   "execution_count": 28,
   "metadata": {},
   "outputs": [],
   "source": [
    "def cantidad_filmaciones_dia(dia: str):\n",
    "    # Crear un diccionario para convertir los días de la semana en español a números\n",
    "    dias_semana = {\n",
    "        'lunes': 0, 'martes': 1, 'miércoles': 2, 'jueves': 3,\n",
    "        'viernes': 4, 'sábado': 5, 'domingo': 6\n",
    "    }\n",
    "    \n",
    "    # Convertir el día a minúsculas para asegurar la coincidencia\n",
    "    dia = dia.lower()\n",
    "    \n",
    "    if dia not in dias_semana:\n",
    "        raise ValueError(\"Día inválido. Por favor ingrese un día válido en español.\")\n",
    "    \n",
    "    # Obtener el número correspondiente al día\n",
    "    dia_numero = dias_semana[dia]\n",
    "    \n",
    "    # Convertir la columna de fechas a datetime si no lo está ya\n",
    "    data_mvp_funciones['release_date'] = pd.to_datetime(data_mvp_funciones['release_date'], errors='coerce')\n",
    "    \n",
    "    # Filtrar el DataFrame por el día de la semana\n",
    "    peliculas_dia = data_mvp_funciones[data_mvp_funciones['release_date'].dt.dayofweek == dia_numero]\n",
    "    \n",
    "    # Devolver la cantidad de filmaciones en ese día\n",
    "    return f'{len(peliculas_dia)} cantidad de peliculas fueron estrenadas en los dias {dia}'\n",
    "\n",
    "# print(cantidad_filmaciones_dia('miércoles', df))\n"
   ]
  },
  {
   "cell_type": "code",
   "execution_count": 29,
   "metadata": {},
   "outputs": [
    {
     "name": "stdout",
     "output_type": "stream",
     "text": [
      "9782 cantidad de peliculas fueron estrenadas en los dias miércoles\n"
     ]
    }
   ],
   "source": [
    "print(cantidad_filmaciones_dia('miércoles'))"
   ]
  },
  {
   "cell_type": "markdown",
   "metadata": {},
   "source": [
    "### 3. def score_titulo( titulo_de_la_filmación ): Se ingresa el título de una filmación esperando como respuesta el título, el año de estreno y el score."
   ]
  },
  {
   "cell_type": "code",
   "execution_count": 30,
   "metadata": {},
   "outputs": [],
   "source": [
    "def score_titulo(titulo_de_la_filmacion: str):\n",
    "    # Filtrar el DataFrame por el título de la filmación\n",
    "    filmacion = data_mvp_funciones_final[data_mvp_funciones_final['title'].str.lower() == titulo_de_la_filmacion.lower()]\n",
    "\n",
    "    if filmacion.empty:\n",
    "        return \"Título no encontrado.\"\n",
    "\n",
    "    # Obtener el título, año de estreno y score\n",
    "    titulo = filmacion['title'].values[0]\n",
    "    anio_estreno = filmacion['release_year'].values[0]\n",
    "    score = filmacion['popularity'].values[0]\n",
    "\n",
    "    return f'La pelicula {titulo} fue estrenado en el año {anio_estreno} con un score/popularidad de {score}'\n",
    "\n",
    "# Ejemplo de uso:\n",
    "# df = pd.read_csv('ruta_al_archivo.csv')\n",
    "# resultado = score_titulo('The Godfather', df)\n",
    "# print(resultado)\n"
   ]
  },
  {
   "cell_type": "code",
   "execution_count": 31,
   "metadata": {},
   "outputs": [
    {
     "name": "stdout",
     "output_type": "stream",
     "text": [
      "La pelicula Toy Story fue estrenado en el año 1995 con un score/popularidad de 21.946943\n"
     ]
    }
   ],
   "source": [
    "resultado = score_titulo('Toy Story')\n",
    "print(resultado)"
   ]
  },
  {
   "cell_type": "markdown",
   "metadata": {},
   "source": [
    "### 4. def votos_titulo( titulo_de_la_filmación ): Se ingresa el título de una filmación esperando como respuesta el título, la cantidad de votos y el valor promedio de las votaciones. La misma variable deberá de contar con al menos 2000 valoraciones, caso contrario, debemos contar con un mensaje avisando que no cumple esta condición y que por ende, no se devuelve ningun valor."
   ]
  },
  {
   "cell_type": "code",
   "execution_count": 32,
   "metadata": {},
   "outputs": [],
   "source": [
    "def votos_titulo(titulo_de_la_filmacion:str):\n",
    "    # Filtrar el DataFrame por el título de la filmación\n",
    "    filmacion = data_mvp_funciones_final[data_mvp_funciones_final['title'].str.lower() == titulo_de_la_filmacion.lower()]\n",
    "\n",
    "    if filmacion.empty:\n",
    "        return \"Título no encontrado.\"\n",
    "\n",
    "    # Obtener la cantidad de votos y el valor promedio de las votaciones\n",
    "    cantidad_votos = filmacion['vote_count'].values[0]\n",
    "    promedio_votaciones = filmacion['vote_average'].values[0]\n",
    "    anio_estreno = filmacion['release_year'].values[0]\n",
    "    titulo_peicula = filmacion['title'].values[0]\n",
    "\n",
    "    # Verificar si la cantidad de votos es al menos 2000\n",
    "    if cantidad_votos < 2000:\n",
    "        return \"La filmación no tiene suficientes valoraciones (menos de 2000).\"\n",
    "\n",
    "    return f'La pelicula {titulo_peicula} fue estrenada en el año {anio_estreno}. La misma cuenta con {cantidad_votos} valoraciones, con un promedio {promedio_votaciones}.'\n",
    "\n",
    "# Ejemplo de uso:\n",
    "# df = pd.read_csv('ruta_al_archivo.csv')\n",
    "# resultado = votos_titulo('The Godfather', df)\n",
    "# print(resultado)\n"
   ]
  },
  {
   "cell_type": "code",
   "execution_count": 33,
   "metadata": {},
   "outputs": [
    {
     "name": "stdout",
     "output_type": "stream",
     "text": [
      "La pelicula Toy Story fue estrenada en el año 1995. La misma cuenta con 5415 valoraciones, con un promedio 7.7.\n"
     ]
    }
   ],
   "source": [
    "resultado = votos_titulo('Toy Story')\n",
    "print(resultado)\n"
   ]
  },
  {
   "cell_type": "markdown",
   "metadata": {},
   "source": [
    "### 5. def get_actor( nombre_actor ): Se ingresa el nombre de un actor que se encuentre dentro de un dataset debiendo devolver el éxito del mismo medido a través del retorno. Además, la cantidad de películas que en las que ha participado y el promedio de retorno. La definición no deberá considerar directores."
   ]
  },
  {
   "cell_type": "code",
   "execution_count": 34,
   "metadata": {},
   "outputs": [],
   "source": [
    "def get_actor(nombre_actor:str):\n",
    "    # Filtrar el DataFrame de cast para obtener las filas donde aparece el actor\n",
    "    peliculas_con_actor = data_nvp_actor[data_nvp_actor['prtgnst_name'].str.contains(nombre_actor, case=False, na=False)]\n",
    "    \n",
    "    if peliculas_con_actor.empty:\n",
    "        return f\"No se encontraron películas para el actor: {nombre_actor}\"\n",
    "    \n",
    "    # Eliminar duplicados: quedarse con una sola fila por combinación de movie_id y actor\n",
    "    peliculas_con_actor = peliculas_con_actor.drop_duplicates(subset=['movie_id', 'prtgnst_name'])\n",
    "    \n",
    "    # Unir el DataFrame de películas con el DataFrame de cast usando movie_id\n",
    "    df_actor_movies = peliculas_con_actor.merge(data_mvp_funciones, on='movie_id', how='inner')\n",
    "    \n",
    "    # Calcular la cantidad de películas en las que ha participado el actor\n",
    "    cantidad_peliculas = df_actor_movies.shape[0]\n",
    "    \n",
    "    # Calcular el retorno total y el promedio de retorno para las películas en las que ha participado\n",
    "    retorno_total = df_actor_movies['return'].sum()\n",
    "    promedio_retorno = df_actor_movies['return'].mean()\n",
    "    \n",
    "    return f'El actor {nombre_actor} ha participado en {cantidad_peliculas} cantidad de filmaciones, el mismo a conseguido un retorno de {retorno_total} con un promedio {promedio_retorno} por filmación.'\n",
    "\n",
    "# Ejemplo de uso:\n",
    "# df_movies = pd.read_csv('ruta_al_archivo_peliculas.csv')\n",
    "# df_cast = pd.read_csv('ruta_al_archivo_cast.csv')\n",
    "# resultado = get_actor('Leonardo DiCaprio', df_movies, df_cast)\n",
    "# print(resultado)"
   ]
  },
  {
   "cell_type": "code",
   "execution_count": 35,
   "metadata": {},
   "outputs": [
    {
     "name": "stdout",
     "output_type": "stream",
     "text": [
      "El actor leonardo dicaprio ha participado en 23 cantidad de filmaciones, el mismo a conseguido un retorno de 64.65553784248664 con un promedio 3.402923044341402 por filmación.\n"
     ]
    }
   ],
   "source": [
    "resultado = get_actor('leonardo dicaprio')\n",
    "print(resultado)"
   ]
  },
  {
   "cell_type": "markdown",
   "metadata": {},
   "source": [
    "### 6. def get_director( nombre_director ): Se ingresa el nombre de un director que se encuentre dentro de un dataset debiendo devolver el éxito del mismo medido a través del retorno. Además, deberá devolver el nombre de cada película con la fecha de lanzamiento, retorno individual, costo y ganancia de la misma."
   ]
  },
  {
   "cell_type": "code",
   "execution_count": 36,
   "metadata": {},
   "outputs": [
    {
     "name": "stdout",
     "output_type": "stream",
     "text": [
      "<class 'pandas.core.frame.DataFrame'>\n",
      "Index: 18614 entries, 0 to 18613\n",
      "Data columns (total 11 columns):\n",
      " #   Column            Non-Null Count  Dtype  \n",
      "---  ------            --------------  -----  \n",
      " 0   director          18614 non-null  string \n",
      " 1   director_revenue  18614 non-null  Int64  \n",
      " 2   director_budget   18614 non-null  Int64  \n",
      " 3   director_return   18614 non-null  Float64\n",
      " 4   movie_id          18614 non-null  Int64  \n",
      " 5   title             18614 non-null  string \n",
      " 6   release_date      18614 non-null  string \n",
      " 7   release_year      18614 non-null  Int64  \n",
      " 8   budget            18614 non-null  Int64  \n",
      " 9   revenue           18614 non-null  Int64  \n",
      " 10  return            8169 non-null   Float64\n",
      "dtypes: Float64(2), Int64(6), string(3)\n",
      "memory usage: 1.8 MB\n"
     ]
    }
   ],
   "source": [
    "data_mvp_director.info()"
   ]
  },
  {
   "cell_type": "code",
   "execution_count": 37,
   "metadata": {},
   "outputs": [
    {
     "data": {
      "text/plain": [
       "{'director': 'Woody Allen',\n",
       " 'retorno total': 3.02,\n",
       " 'peliculas': [{'nombre': 'Mighty Aphrodite',\n",
       "   'fecha_lanzamiento': '1995-09-13',\n",
       "   'costo (USD)': '15,000,000',\n",
       "   'ganancia (USD)': '6,700,000',\n",
       "   'retorno (ratio)': 0.45},\n",
       "  {'nombre': 'Bullets Over Broadway',\n",
       "   'fecha_lanzamiento': '1994-10-14',\n",
       "   'costo (USD)': '0',\n",
       "   'ganancia (USD)': '0',\n",
       "   'retorno (ratio)': 0.0},\n",
       "  {'nombre': 'Manhattan Murder Mystery',\n",
       "   'fecha_lanzamiento': '1993-08-18',\n",
       "   'costo (USD)': '13,500,000',\n",
       "   'ganancia (USD)': '11,285,588',\n",
       "   'retorno (ratio)': 0.84},\n",
       "  {'nombre': 'Everyone Says I Love You',\n",
       "   'fecha_lanzamiento': '1996-12-06',\n",
       "   'costo (USD)': '20,000,000',\n",
       "   'ganancia (USD)': '0',\n",
       "   'retorno (ratio)': 0.0},\n",
       "  {'nombre': 'Sleeper',\n",
       "   'fecha_lanzamiento': '1973-12-17',\n",
       "   'costo (USD)': '2,000,000',\n",
       "   'ganancia (USD)': '18,344,729',\n",
       "   'retorno (ratio)': 9.17},\n",
       "  {'nombre': 'Bananas',\n",
       "   'fecha_lanzamiento': '1971-04-28',\n",
       "   'costo (USD)': '2,000,000',\n",
       "   'ganancia (USD)': '11,833,696',\n",
       "   'retorno (ratio)': 5.92},\n",
       "  {'nombre': 'Annie Hall',\n",
       "   'fecha_lanzamiento': '1977-04-19',\n",
       "   'costo (USD)': '4,000,000',\n",
       "   'ganancia (USD)': '38,251,425',\n",
       "   'retorno (ratio)': 9.56},\n",
       "  {'nombre': 'Manhattan',\n",
       "   'fecha_lanzamiento': '1979-04-25',\n",
       "   'costo (USD)': '0',\n",
       "   'ganancia (USD)': '39,946,780',\n",
       "   'retorno (ratio)': 0.0},\n",
       "  {'nombre': 'Deconstructing Harry',\n",
       "   'fecha_lanzamiento': '1997-08-26',\n",
       "   'costo (USD)': '20,000,000',\n",
       "   'ganancia (USD)': '10,686,841',\n",
       "   'retorno (ratio)': 0.53},\n",
       "  {'nombre': 'Take the Money and Run',\n",
       "   'fecha_lanzamiento': '1969-08-18',\n",
       "   'costo (USD)': '1,500,000',\n",
       "   'ganancia (USD)': '0',\n",
       "   'retorno (ratio)': 0.0},\n",
       "  {'nombre': 'The Purple Rose of Cairo',\n",
       "   'fecha_lanzamiento': '1985-03-01',\n",
       "   'costo (USD)': '15,000,000',\n",
       "   'ganancia (USD)': '10,631,333',\n",
       "   'retorno (ratio)': 0.71},\n",
       "  {'nombre': 'Stardust Memories',\n",
       "   'fecha_lanzamiento': '1980-09-26',\n",
       "   'costo (USD)': '10,000,000',\n",
       "   'ganancia (USD)': '10,389,003',\n",
       "   'retorno (ratio)': 1.04},\n",
       "  {'nombre': 'Celebrity',\n",
       "   'fecha_lanzamiento': '1998-09-07',\n",
       "   'costo (USD)': '0',\n",
       "   'ganancia (USD)': '0',\n",
       "   'retorno (ratio)': 0.0},\n",
       "  {'nombre': 'Radio Days',\n",
       "   'fecha_lanzamiento': '1987-01-30',\n",
       "   'costo (USD)': '16,000,000',\n",
       "   'ganancia (USD)': '0',\n",
       "   'retorno (ratio)': 0.0},\n",
       "  {'nombre': 'Crimes and Misdemeanors',\n",
       "   'fecha_lanzamiento': '1989-10-13',\n",
       "   'costo (USD)': '19,000,000',\n",
       "   'ganancia (USD)': '18,254,702',\n",
       "   'retorno (ratio)': 0.96},\n",
       "  {'nombre': 'Sweet and Lowdown',\n",
       "   'fecha_lanzamiento': '1999-12-03',\n",
       "   'costo (USD)': '0',\n",
       "   'ganancia (USD)': '0',\n",
       "   'retorno (ratio)': 0.0},\n",
       "  {'nombre': 'Small Time Crooks',\n",
       "   'fecha_lanzamiento': '2000-05-19',\n",
       "   'costo (USD)': '0',\n",
       "   'ganancia (USD)': '0',\n",
       "   'retorno (ratio)': 0.0},\n",
       "  {'nombre': 'Everything You Always Wanted to Know About Sex *But Were Afraid to Ask',\n",
       "   'fecha_lanzamiento': '1972-08-06',\n",
       "   'costo (USD)': '2,000,000',\n",
       "   'ganancia (USD)': '18,016,290',\n",
       "   'retorno (ratio)': 9.01},\n",
       "  {'nombre': 'Interiors',\n",
       "   'fecha_lanzamiento': '1978-08-02',\n",
       "   'costo (USD)': '0',\n",
       "   'ganancia (USD)': '0',\n",
       "   'retorno (ratio)': 0.0},\n",
       "  {'nombre': 'Love and Death',\n",
       "   'fecha_lanzamiento': '1975-06-10',\n",
       "   'costo (USD)': '3,000,000',\n",
       "   'ganancia (USD)': '20,173,742',\n",
       "   'retorno (ratio)': 6.72},\n",
       "  {'nombre': 'Alice',\n",
       "   'fecha_lanzamiento': '1990-12-25',\n",
       "   'costo (USD)': '0',\n",
       "   'ganancia (USD)': '0',\n",
       "   'retorno (ratio)': 0.0},\n",
       "  {'nombre': 'Another Woman',\n",
       "   'fecha_lanzamiento': '1988-10-13',\n",
       "   'costo (USD)': '0',\n",
       "   'ganancia (USD)': '0',\n",
       "   'retorno (ratio)': 0.0},\n",
       "  {'nombre': 'September',\n",
       "   'fecha_lanzamiento': '1987-01-01',\n",
       "   'costo (USD)': '0',\n",
       "   'ganancia (USD)': '0',\n",
       "   'retorno (ratio)': 0.0},\n",
       "  {'nombre': 'Shadows and Fog',\n",
       "   'fecha_lanzamiento': '1991-12-05',\n",
       "   'costo (USD)': '14,000,000',\n",
       "   'ganancia (USD)': '2,735,731',\n",
       "   'retorno (ratio)': 0.2},\n",
       "  {'nombre': 'New York Stories',\n",
       "   'fecha_lanzamiento': '1989-03-10',\n",
       "   'costo (USD)': '15,000,000',\n",
       "   'ganancia (USD)': '0',\n",
       "   'retorno (ratio)': 0.0},\n",
       "  {'nombre': 'The Curse of the Jade Scorpion',\n",
       "   'fecha_lanzamiento': '2001-08-05',\n",
       "   'costo (USD)': '0',\n",
       "   'ganancia (USD)': '0',\n",
       "   'retorno (ratio)': 0.0},\n",
       "  {'nombre': 'Husbands and Wives',\n",
       "   'fecha_lanzamiento': '1992-09-18',\n",
       "   'costo (USD)': '0',\n",
       "   'ganancia (USD)': '0',\n",
       "   'retorno (ratio)': 0.0},\n",
       "  {'nombre': 'Hollywood Ending',\n",
       "   'fecha_lanzamiento': '2002-05-03',\n",
       "   'costo (USD)': '16,000,000',\n",
       "   'ganancia (USD)': '0',\n",
       "   'retorno (ratio)': 0.0},\n",
       "  {'nombre': \"A Midsummer Night's Sex Comedy\",\n",
       "   'fecha_lanzamiento': '1982-07-16',\n",
       "   'costo (USD)': '0',\n",
       "   'ganancia (USD)': '0',\n",
       "   'retorno (ratio)': 0.0},\n",
       "  {'nombre': \"What's Up, Tiger Lily?\",\n",
       "   'fecha_lanzamiento': '1966-11-02',\n",
       "   'costo (USD)': '0',\n",
       "   'ganancia (USD)': '0',\n",
       "   'retorno (ratio)': 0.0},\n",
       "  {'nombre': 'Anything Else',\n",
       "   'fecha_lanzamiento': '2003-08-27',\n",
       "   'costo (USD)': '0',\n",
       "   'ganancia (USD)': '0',\n",
       "   'retorno (ratio)': 0.0},\n",
       "  {'nombre': 'Hannah and Her Sisters',\n",
       "   'fecha_lanzamiento': '1986-02-07',\n",
       "   'costo (USD)': '6,400,000',\n",
       "   'ganancia (USD)': '40,084,041',\n",
       "   'retorno (ratio)': 6.26},\n",
       "  {'nombre': 'Zelig',\n",
       "   'fecha_lanzamiento': '1983-07-15',\n",
       "   'costo (USD)': '0',\n",
       "   'ganancia (USD)': '11,798,616',\n",
       "   'retorno (ratio)': 0.0},\n",
       "  {'nombre': 'Broadway Danny Rose',\n",
       "   'fecha_lanzamiento': '1984-01-27',\n",
       "   'costo (USD)': '8,000,000',\n",
       "   'ganancia (USD)': '10,600,497',\n",
       "   'retorno (ratio)': 1.33},\n",
       "  {'nombre': 'Melinda and Melinda',\n",
       "   'fecha_lanzamiento': '2004-10-29',\n",
       "   'costo (USD)': '0',\n",
       "   'ganancia (USD)': '20,085,825',\n",
       "   'retorno (ratio)': 0.0},\n",
       "  {'nombre': 'Match Point',\n",
       "   'fecha_lanzamiento': '2005-10-26',\n",
       "   'costo (USD)': '15,000,000',\n",
       "   'ganancia (USD)': '85,306,374',\n",
       "   'retorno (ratio)': 5.69},\n",
       "  {'nombre': 'Scoop',\n",
       "   'fecha_lanzamiento': '2006-07-27',\n",
       "   'costo (USD)': '4,000,000',\n",
       "   'ganancia (USD)': '31,584,901',\n",
       "   'retorno (ratio)': 7.9},\n",
       "  {'nombre': \"Don't Drink the Water\",\n",
       "   'fecha_lanzamiento': '1994-12-18',\n",
       "   'costo (USD)': '0',\n",
       "   'ganancia (USD)': '0',\n",
       "   'retorno (ratio)': 0.0},\n",
       "  {'nombre': \"Cassandra's Dream\",\n",
       "   'fecha_lanzamiento': '2007-06-18',\n",
       "   'costo (USD)': '0',\n",
       "   'ganancia (USD)': '0',\n",
       "   'retorno (ratio)': 0.0},\n",
       "  {'nombre': 'Vicky Cristina Barcelona',\n",
       "   'fecha_lanzamiento': '2008-08-15',\n",
       "   'costo (USD)': '15,000,000',\n",
       "   'ganancia (USD)': '96,408,652',\n",
       "   'retorno (ratio)': 6.43},\n",
       "  {'nombre': 'Whatever Works',\n",
       "   'fecha_lanzamiento': '2009-06-19',\n",
       "   'costo (USD)': '15,000,000',\n",
       "   'ganancia (USD)': '35,097,815',\n",
       "   'retorno (ratio)': 2.34},\n",
       "  {'nombre': 'You Will Meet a Tall Dark Stranger',\n",
       "   'fecha_lanzamiento': '2010-05-23',\n",
       "   'costo (USD)': '22,000,000',\n",
       "   'ganancia (USD)': '0',\n",
       "   'retorno (ratio)': 0.0},\n",
       "  {'nombre': 'Midnight in Paris',\n",
       "   'fecha_lanzamiento': '2011-05-11',\n",
       "   'costo (USD)': '30,000,000',\n",
       "   'ganancia (USD)': '151,119,219',\n",
       "   'retorno (ratio)': 5.04},\n",
       "  {'nombre': 'To Rome with Love',\n",
       "   'fecha_lanzamiento': '2012-04-20',\n",
       "   'costo (USD)': '17,000,000',\n",
       "   'ganancia (USD)': '73,244,881',\n",
       "   'retorno (ratio)': 4.31},\n",
       "  {'nombre': 'Blue Jasmine',\n",
       "   'fecha_lanzamiento': '2013-07-25',\n",
       "   'costo (USD)': '18,000,000',\n",
       "   'ganancia (USD)': '99,206,215',\n",
       "   'retorno (ratio)': 5.51},\n",
       "  {'nombre': 'Magic in the Moonlight',\n",
       "   'fecha_lanzamiento': '2014-07-25',\n",
       "   'costo (USD)': '16,800,000',\n",
       "   'ganancia (USD)': '51,029,361',\n",
       "   'retorno (ratio)': 3.04},\n",
       "  {'nombre': 'Irrational Man',\n",
       "   'fecha_lanzamiento': '2015-07-17',\n",
       "   'costo (USD)': '11,000,000',\n",
       "   'ganancia (USD)': '27,391,084',\n",
       "   'retorno (ratio)': 2.49},\n",
       "  {'nombre': 'Café Society',\n",
       "   'fecha_lanzamiento': '2016-05-11',\n",
       "   'costo (USD)': '30,000,000',\n",
       "   'ganancia (USD)': '43,763,247',\n",
       "   'retorno (ratio)': 1.46},\n",
       "  {'nombre': 'Crisis in Six Scenes',\n",
       "   'fecha_lanzamiento': '2016-09-30',\n",
       "   'costo (USD)': '0',\n",
       "   'ganancia (USD)': '0',\n",
       "   'retorno (ratio)': 0.0}]}"
      ]
     },
     "execution_count": 37,
     "metadata": {},
     "output_type": "execute_result"
    }
   ],
   "source": [
    "#@app.get(\"/get_director/{director}\")\n",
    "# definimos\n",
    "def get_director(nombre_director: str):\n",
    "    director_subset = data_mvp_director.loc[\n",
    "        data_mvp_director['director'].str.contains(nombre_director)]\n",
    "    director_return = director_subset['director_return'].drop_duplicates()\n",
    "    director_return_res = round(float(director_return.iloc[0]),2)\n",
    "    columns_peliculas=['movie_id','title','release_date','budget','revenue','return']\n",
    "    director_peliculas = director_subset[columns_peliculas].drop_duplicates().fillna(0) ### OJO se colocó fillna(0) para corregir el error de NAType\n",
    "    peliculas = []\n",
    "    for _, pelicula in director_peliculas.iterrows():\n",
    "        pelicula_info = {\n",
    "            'nombre': pelicula['title'],\n",
    "            'fecha_lanzamiento': pelicula['release_date'],\n",
    "            'costo (USD)': ('{:,}'.format(round(pelicula['budget']))),\n",
    "            'ganancia (USD)': ('{:,}'.format(round(pelicula['revenue']))),\n",
    "            'retorno (ratio)': round(pelicula['return'],2)\n",
    "        }\n",
    "        peliculas.append(pelicula_info)\n",
    "    return {\n",
    "        'director': nombre_director,\n",
    "        'retorno total': director_return_res,\n",
    "        'peliculas': peliculas }\n",
    "# test\n",
    "get_director('Woody Allen')"
   ]
  },
  {
   "cell_type": "markdown",
   "metadata": {},
   "source": [
    "Instruccion:\n",
    "\n",
    "def recomendacion( titulo ): Se ingresa el nombre de una película y te recomienda las similares en una lista de 5 valores."
   ]
  },
  {
   "cell_type": "code",
   "execution_count": 38,
   "metadata": {},
   "outputs": [
    {
     "name": "stdout",
     "output_type": "stream",
     "text": [
      "<class 'pandas.core.frame.DataFrame'>\n",
      "MultiIndex: 179180 entries, (np.float64(1.0), np.float64(1.0)) to (np.float64(4.0), np.float64(4.0))\n",
      "Data columns (total 5 columns):\n",
      " #   Column        Non-Null Count   Dtype  \n",
      "---  ------        --------------   -----  \n",
      " 0   movie_id      179180 non-null  Int64  \n",
      " 1   cos_smltd     179180 non-null  Float64\n",
      " 2   vecino_id     179180 non-null  Int64  \n",
      " 3   title         179180 non-null  string \n",
      " 4   vecino_title  179180 non-null  string \n",
      "dtypes: Float64(1), Int64(2), string(2)\n",
      "memory usage: 7.7 MB\n"
     ]
    }
   ],
   "source": [
    "data_mvp_recomendacion.info()"
   ]
  },
  {
   "cell_type": "code",
   "execution_count": 45,
   "metadata": {},
   "outputs": [
    {
     "data": {
      "text/plain": [
       "{'pelicula': 'Toy Story',\n",
       " 'recomendaciones': ['Class of 1984',\n",
       "  'Totally Fucked Up',\n",
       "  'Dollman vs. Demonic Toys',\n",
       "  'Halloweentown',\n",
       "  \"City Slickers II: The Legend of Curly's Gold\"]}"
      ]
     },
     "execution_count": 45,
     "metadata": {},
     "output_type": "execute_result"
    }
   ],
   "source": [
    "#@app.get(\"/recomendacion_pelicula/{titulo_pelicula}\")\n",
    "# definimos\n",
    "def recomendacion_pelicula(titulo_pelicula: str):\n",
    "    recomendacion_subset = data_mvp_recomendacion.loc[\n",
    "        data_mvp_recomendacion['title'].isin([titulo_pelicula])]\n",
    "    pelicula_vecinos = recomendacion_subset[['vecino_title']].reset_index().drop_duplicates()\n",
    "    pelicula_recomend = list(pelicula_vecinos['vecino_title'])\n",
    "    return {\n",
    "        'pelicula': titulo_pelicula,\n",
    "        'recomendaciones': pelicula_recomend[:5]}\n",
    "# test\n",
    "recomendacion_pelicula('Toy Story')"
   ]
  }
 ],
 "metadata": {
  "kernelspec": {
   "display_name": "pandas_scikit",
   "language": "python",
   "name": "python3"
  },
  "language_info": {
   "codemirror_mode": {
    "name": "ipython",
    "version": 3
   },
   "file_extension": ".py",
   "mimetype": "text/x-python",
   "name": "python",
   "nbconvert_exporter": "python",
   "pygments_lexer": "ipython3",
   "version": "3.9.13"
  },
  "orig_nbformat": 4
 },
 "nbformat": 4,
 "nbformat_minor": 2
}
