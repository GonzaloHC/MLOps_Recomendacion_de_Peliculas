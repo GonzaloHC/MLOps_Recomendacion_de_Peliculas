{
 "cells": [
  {
   "cell_type": "markdown",
   "metadata": {},
   "source": [
    "## API Interaction\n",
    "### Objectives\n",
    "Demonstrate how to interact with the IMDB-based API generated earlier.\n",
    "Retrieve and process data about directors and movies.\n",
    "Show how to handle nested JSON responses and convert them to pandas DataFrames.\n",
    "### Key Techniques Demonstrated\n",
    "API requests using the requests library\n",
    "JSON data processing\n",
    "Handling nested data structures\n",
    "Pandas DataFrame manipulation (json_normalize, merging, type conversion)\n",
    "### Contents\n",
    "Import packages\n",
    "Test the API connection\n",
    "Data retrieval and manipulation"
   ]
  },
  {
   "cell_type": "markdown",
   "metadata": {},
   "source": [
    "### 1. Import packages"
   ]
  },
  {
   "cell_type": "code",
   "execution_count": 1,
   "metadata": {},
   "outputs": [],
   "source": [
    "import requests\n",
    "import pandas as pd"
   ]
  },
  {
   "cell_type": "markdown",
   "metadata": {},
   "source": [
    "### 2. Test API connection"
   ]
  },
  {
   "cell_type": "code",
   "execution_count": 2,
   "metadata": {},
   "outputs": [],
   "source": [
    "# Define the API endpoint URL for the Recommendation system based on IMDB data\n",
    "api_imdb = \"https://mlops-recomendacion-peliculas.onrender.com\"\n",
    "\n",
    "# Send a GET request to the IMDB API endpoint\n",
    "response_api = requests.get(api_imdb)\n",
    "\n",
    "# Print the raw text response from the API\n",
    "print(response_api.text)"
   ]
  }
 ],
 "metadata": {
  "kernelspec": {
   "display_name": "Python 3",
   "language": "python",
   "name": "python3"
  },
  "language_info": {
   "codemirror_mode": {
    "name": "ipython",
    "version": 3
   },
   "file_extension": ".py",
   "mimetype": "text/x-python",
   "name": "python",
   "nbconvert_exporter": "python",
   "pygments_lexer": "ipython3",
   "version": "3.11.3"
  }
 },
 "nbformat": 4,
 "nbformat_minor": 2
}
