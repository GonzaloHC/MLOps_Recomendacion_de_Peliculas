{
 "cells": [
  {
   "cell_type": "markdown",
   "metadata": {},
   "source": [
    "# 1.- ETL\n",
    "## 1.1 PASO 1. Proceso de limpieza de datos segun los requerimientos mínimos según Henry\n",
    "1. Eliminar los campos que no se utilizaran: 'video','imdb_id','adult', 'original_title', 'poster_path', 'homepage'.\n",
    "2. Dar formato de AAAA-mm-dd de haber fecha en el campo 'release_date' y crear el campo 'release_year'.\n",
    "3. Eliminar los valores nulos del campo 'release_date'.\n",
    "4. Eliminar los valores nulos de los campos 'revenue', 'budget' deben ser rellenados por el número 0.\n",
    "5. Crear el campo 'return' con los campos 'revenue' y 'budget', dividiendo estas dos últimas revenue / budget, cuando no hay datos disponibles para calcularlo, deberá tomar el valor 0.\n",
    "6. Desanidar los campos: 'belongs_to_collection', 'genres', 'production_companies', 'production_countries' y 'spoken_languages'."
   ]
  },
  {
   "cell_type": "code",
   "execution_count": 1,
   "metadata": {},
   "outputs": [
    {
     "name": "stdout",
     "output_type": "stream",
     "text": [
      "<class 'pandas.core.frame.DataFrame'>\n",
      "RangeIndex: 45466 entries, 0 to 45465\n",
      "Data columns (total 24 columns):\n",
      " #   Column                 Non-Null Count  Dtype  \n",
      "---  ------                 --------------  -----  \n",
      " 0   adult                  45466 non-null  object \n",
      " 1   belongs_to_collection  4494 non-null   object \n",
      " 2   budget                 45466 non-null  object \n",
      " 3   genres                 45466 non-null  object \n",
      " 4   homepage               7782 non-null   object \n",
      " 5   movie_id               45466 non-null  object \n",
      " 6   imdb_id                45449 non-null  object \n",
      " 7   original_language      45455 non-null  object \n",
      " 8   original_title         45466 non-null  object \n",
      " 9   overview               44512 non-null  object \n",
      " 10  popularity             45461 non-null  object \n",
      " 11  poster_path            45080 non-null  object \n",
      " 12  production_companies   45463 non-null  object \n",
      " 13  production_countries   45463 non-null  object \n",
      " 14  release_date           45379 non-null  object \n",
      " 15  revenue                45460 non-null  float64\n",
      " 16  runtime                45203 non-null  float64\n",
      " 17  spoken_languages       45460 non-null  object \n",
      " 18  status                 45379 non-null  object \n",
      " 19  tagline                20412 non-null  object \n",
      " 20  title                  45460 non-null  object \n",
      " 21  video                  45460 non-null  object \n",
      " 22  vote_average           45460 non-null  float64\n",
      " 23  vote_count             45460 non-null  float64\n",
      "dtypes: float64(4), object(20)\n",
      "memory usage: 8.3+ MB\n"
     ]
    },
    {
     "name": "stderr",
     "output_type": "stream",
     "text": [
      "C:\\Users\\Losse\\AppData\\Local\\Temp\\ipykernel_27136\\2093578661.py:5: DtypeWarning: Columns (10) have mixed types. Specify dtype option on import or set low_memory=False.\n",
      "  data_movies = pd.read_csv('D:\\Bootcamp\\Henry\\CURSO\\Proyecto Individual 1\\Datasets\\movies_dataset.csv')\n"
     ]
    }
   ],
   "source": [
    "import pandas as pd\n",
    "import numpy as np\n",
    "import os\n",
    "\n",
    "data_movies = pd.read_csv('D:\\Bootcamp\\Henry\\CURSO\\Proyecto Individual 1\\Datasets\\movies_dataset.csv')\n",
    "data_movies.rename(columns={'id':'movie_id'}, inplace=True) #Cambiamos el id a movie_id para poder usarlo como primary key\n",
    "data_movies.info()\n"
   ]
  },
  {
   "cell_type": "markdown",
   "metadata": {},
   "source": [
    "1. Eliminar los campos que no se utilizaran: 'video','imdb_id','adult', 'original_title', 'poster_path', 'homepage'."
   ]
  },
  {
   "cell_type": "code",
   "execution_count": 2,
   "metadata": {},
   "outputs": [
    {
     "name": "stdout",
     "output_type": "stream",
     "text": [
      "<class 'pandas.core.frame.DataFrame'>\n",
      "RangeIndex: 45466 entries, 0 to 45465\n",
      "Data columns (total 11 columns):\n",
      " #   Column             Non-Null Count  Dtype  \n",
      "---  ------             --------------  -----  \n",
      " 0   budget             45466 non-null  object \n",
      " 1   movie_id           45466 non-null  object \n",
      " 2   original_language  45455 non-null  object \n",
      " 3   overview           44512 non-null  object \n",
      " 4   popularity         45461 non-null  object \n",
      " 5   release_date       45379 non-null  object \n",
      " 6   revenue            45460 non-null  float64\n",
      " 7   runtime            45203 non-null  float64\n",
      " 8   title              45460 non-null  object \n",
      " 9   vote_average       45460 non-null  float64\n",
      " 10  vote_count         45460 non-null  float64\n",
      "dtypes: float64(4), object(7)\n",
      "memory usage: 3.8+ MB\n"
     ]
    }
   ],
   "source": [
    "columnas_excluidas_henry = ['video','imdb_id','adult','original_title','poster_path', 'homepage'] # Columnas que no serán utilizadas segun Henry\n",
    "columnas_excluidas_criterio_personal = ['tagline', 'status']    #Columnas que no seran utilizadas segun criterio personal    \n",
    "columnas_desanidar=['belongs_to_collection','genres','production_companies','production_countries','spoken_languages'] #Columnas que requieren ser desanidadas\n",
    "\n",
    "data_movies_subset = data_movies.drop(list(columnas_excluidas_henry+columnas_excluidas_criterio_personal+columnas_desanidar), axis=1)\n",
    "data_movies_subset.info()"
   ]
  },
  {
   "cell_type": "code",
   "execution_count": 3,
   "metadata": {},
   "outputs": [
    {
     "data": {
      "text/plain": [
       "'1997-08-20'"
      ]
     },
     "execution_count": 3,
     "metadata": {},
     "output_type": "execute_result"
    }
   ],
   "source": [
    "#data_movies_subset['movie_id']=pd.to_numeric(data_movies_subset['movie_id'])\n",
    "\n",
    "data_movies_subset.iloc[19730]['movie_id'] "
   ]
  },
  {
   "cell_type": "code",
   "execution_count": 4,
   "metadata": {},
   "outputs": [
    {
     "data": {
      "text/html": [
       "<div>\n",
       "<style scoped>\n",
       "    .dataframe tbody tr th:only-of-type {\n",
       "        vertical-align: middle;\n",
       "    }\n",
       "\n",
       "    .dataframe tbody tr th {\n",
       "        vertical-align: top;\n",
       "    }\n",
       "\n",
       "    .dataframe thead th {\n",
       "        text-align: right;\n",
       "    }\n",
       "</style>\n",
       "<table border=\"1\" class=\"dataframe\">\n",
       "  <thead>\n",
       "    <tr style=\"text-align: right;\">\n",
       "      <th></th>\n",
       "      <th>budget</th>\n",
       "      <th>movie_id</th>\n",
       "      <th>original_language</th>\n",
       "      <th>overview</th>\n",
       "      <th>popularity</th>\n",
       "      <th>release_date</th>\n",
       "      <th>revenue</th>\n",
       "      <th>runtime</th>\n",
       "      <th>title</th>\n",
       "      <th>vote_average</th>\n",
       "      <th>vote_count</th>\n",
       "    </tr>\n",
       "  </thead>\n",
       "  <tbody>\n",
       "    <tr>\n",
       "      <th>19730</th>\n",
       "      <td>/ff9qCepilowshEtG2GYWwzt2bs4.jpg</td>\n",
       "      <td>1997-08-20</td>\n",
       "      <td>104.0</td>\n",
       "      <td>Released</td>\n",
       "      <td>NaN</td>\n",
       "      <td>1</td>\n",
       "      <td>NaN</td>\n",
       "      <td>NaN</td>\n",
       "      <td>NaN</td>\n",
       "      <td>NaN</td>\n",
       "      <td>NaN</td>\n",
       "    </tr>\n",
       "    <tr>\n",
       "      <th>29503</th>\n",
       "      <td>/zV8bHuSL6WXoD6FWogP9j4x80bL.jpg</td>\n",
       "      <td>2012-09-29</td>\n",
       "      <td>68.0</td>\n",
       "      <td>Released</td>\n",
       "      <td>NaN</td>\n",
       "      <td>12</td>\n",
       "      <td>NaN</td>\n",
       "      <td>NaN</td>\n",
       "      <td>NaN</td>\n",
       "      <td>NaN</td>\n",
       "      <td>NaN</td>\n",
       "    </tr>\n",
       "    <tr>\n",
       "      <th>35587</th>\n",
       "      <td>/zaSf5OG7V8X8gqFvly88zDdRm46.jpg</td>\n",
       "      <td>2014-01-01</td>\n",
       "      <td>82.0</td>\n",
       "      <td>Released</td>\n",
       "      <td>Beware Of Frost Bites</td>\n",
       "      <td>22</td>\n",
       "      <td>NaN</td>\n",
       "      <td>NaN</td>\n",
       "      <td>NaN</td>\n",
       "      <td>NaN</td>\n",
       "      <td>NaN</td>\n",
       "    </tr>\n",
       "  </tbody>\n",
       "</table>\n",
       "</div>"
      ],
      "text/plain": [
       "                                 budget    movie_id original_language  \\\n",
       "19730  /ff9qCepilowshEtG2GYWwzt2bs4.jpg  1997-08-20             104.0   \n",
       "29503  /zV8bHuSL6WXoD6FWogP9j4x80bL.jpg  2012-09-29              68.0   \n",
       "35587  /zaSf5OG7V8X8gqFvly88zDdRm46.jpg  2014-01-01              82.0   \n",
       "\n",
       "       overview             popularity release_date  revenue  runtime title  \\\n",
       "19730  Released                    NaN            1      NaN      NaN   NaN   \n",
       "29503  Released                    NaN           12      NaN      NaN   NaN   \n",
       "35587  Released  Beware Of Frost Bites           22      NaN      NaN   NaN   \n",
       "\n",
       "       vote_average  vote_count  \n",
       "19730           NaN         NaN  \n",
       "29503           NaN         NaN  \n",
       "35587           NaN         NaN  "
      ]
     },
     "execution_count": 4,
     "metadata": {},
     "output_type": "execute_result"
    }
   ],
   "source": [
    "\n",
    "# identificamos las filas que contienen datos tipo fecha en la columna de nuestro primary key: pelicula_id\n",
    "def check_type(x):\n",
    "     try: \n",
    "        return type(eval(x)) \n",
    "     except Exception as e:\n",
    "        return type(x)\n",
    "\n",
    "data_movies_subset.loc[data_movies_subset['movie_id'].map(check_type)!=int]"
   ]
  },
  {
   "cell_type": "code",
   "execution_count": 5,
   "metadata": {},
   "outputs": [
    {
     "name": "stdout",
     "output_type": "stream",
     "text": [
      "Numero de filas que no contienen datos tipo fecha en la columna ['movie_id']: 0\n"
     ]
    }
   ],
   "source": [
    "# removemos las filas que contienen fecha en la columna de primary key\n",
    "data_movies_subset.drop(\n",
    "    data_movies_subset.loc[data_movies_subset['movie_id'].map(check_type)!=int].index,\n",
    "    inplace=True)\n",
    "print(\"Numero de filas que no contienen datos tipo fecha en la columna ['movie_id']:\",\n",
    "    data_movies_subset.loc[data_movies_subset['movie_id'].map(check_type)!=int].shape[0]\n",
    ")"
   ]
  },
  {
   "cell_type": "code",
   "execution_count": 6,
   "metadata": {},
   "outputs": [],
   "source": [
    "#data_movies_subset['movie_id']=pd.to_numeric(data_movies_subset['movie_id'])\n",
    "#data_movies_subset.head()"
   ]
  },
  {
   "cell_type": "markdown",
   "metadata": {},
   "source": [
    "2. Dar formato de AAAA-mm-dd de haber fecha en el campo 'release_date' y crear el campo 'release_year'."
   ]
  },
  {
   "cell_type": "code",
   "execution_count": 7,
   "metadata": {},
   "outputs": [],
   "source": [
    "#Convertimos el tipo de columna\n",
    "columns_numeric=['movie_id','budget','revenue','popularity','vote_average','vote_count','runtime']\n",
    "columns_date=['release_date']\n",
    "\n",
    "data_movies_subset[columns_numeric]=data_movies_subset[columns_numeric].apply(pd.to_numeric) # convertimos a tipo numerico\n",
    "data_movies_subset[columns_date]=data_movies_subset[columns_date].apply(pd.to_datetime) # convertimos a tipo fecha "
   ]
  },
  {
   "cell_type": "code",
   "execution_count": 8,
   "metadata": {},
   "outputs": [
    {
     "name": "stdout",
     "output_type": "stream",
     "text": [
      "<class 'pandas.core.frame.DataFrame'>\n",
      "Index: 45463 entries, 0 to 45465\n",
      "Data columns (total 11 columns):\n",
      " #   Column             Non-Null Count  Dtype         \n",
      "---  ------             --------------  -----         \n",
      " 0   budget             45463 non-null  Int64         \n",
      " 1   movie_id           45463 non-null  Int64         \n",
      " 2   original_language  45452 non-null  string        \n",
      " 3   overview           44509 non-null  string        \n",
      " 4   popularity         45460 non-null  Float64       \n",
      " 5   release_date       45376 non-null  datetime64[ns]\n",
      " 6   revenue            45460 non-null  Int64         \n",
      " 7   runtime            45203 non-null  Int64         \n",
      " 8   title              45460 non-null  string        \n",
      " 9   vote_average       45460 non-null  Float64       \n",
      " 10  vote_count         45460 non-null  Int64         \n",
      "dtypes: Float64(2), Int64(5), datetime64[ns](1), string(3)\n",
      "memory usage: 4.5 MB\n"
     ]
    },
    {
     "data": {
      "text/html": [
       "<div>\n",
       "<style scoped>\n",
       "    .dataframe tbody tr th:only-of-type {\n",
       "        vertical-align: middle;\n",
       "    }\n",
       "\n",
       "    .dataframe tbody tr th {\n",
       "        vertical-align: top;\n",
       "    }\n",
       "\n",
       "    .dataframe thead th {\n",
       "        text-align: right;\n",
       "    }\n",
       "</style>\n",
       "<table border=\"1\" class=\"dataframe\">\n",
       "  <thead>\n",
       "    <tr style=\"text-align: right;\">\n",
       "      <th></th>\n",
       "      <th>budget</th>\n",
       "      <th>movie_id</th>\n",
       "      <th>original_language</th>\n",
       "      <th>overview</th>\n",
       "      <th>popularity</th>\n",
       "      <th>release_date</th>\n",
       "      <th>revenue</th>\n",
       "      <th>runtime</th>\n",
       "      <th>title</th>\n",
       "      <th>vote_average</th>\n",
       "      <th>vote_count</th>\n",
       "    </tr>\n",
       "  </thead>\n",
       "  <tbody>\n",
       "    <tr>\n",
       "      <th>0</th>\n",
       "      <td>30000000</td>\n",
       "      <td>862</td>\n",
       "      <td>en</td>\n",
       "      <td>Led by Woody, Andy's toys live happily in his ...</td>\n",
       "      <td>21.946943</td>\n",
       "      <td>1995-10-30</td>\n",
       "      <td>373554033</td>\n",
       "      <td>81</td>\n",
       "      <td>Toy Story</td>\n",
       "      <td>7.7</td>\n",
       "      <td>5415</td>\n",
       "    </tr>\n",
       "    <tr>\n",
       "      <th>1</th>\n",
       "      <td>65000000</td>\n",
       "      <td>8844</td>\n",
       "      <td>en</td>\n",
       "      <td>When siblings Judy and Peter discover an encha...</td>\n",
       "      <td>17.015539</td>\n",
       "      <td>1995-12-15</td>\n",
       "      <td>262797249</td>\n",
       "      <td>104</td>\n",
       "      <td>Jumanji</td>\n",
       "      <td>6.9</td>\n",
       "      <td>2413</td>\n",
       "    </tr>\n",
       "    <tr>\n",
       "      <th>2</th>\n",
       "      <td>0</td>\n",
       "      <td>15602</td>\n",
       "      <td>en</td>\n",
       "      <td>A family wedding reignites the ancient feud be...</td>\n",
       "      <td>11.7129</td>\n",
       "      <td>1995-12-22</td>\n",
       "      <td>0</td>\n",
       "      <td>101</td>\n",
       "      <td>Grumpier Old Men</td>\n",
       "      <td>6.5</td>\n",
       "      <td>92</td>\n",
       "    </tr>\n",
       "  </tbody>\n",
       "</table>\n",
       "</div>"
      ],
      "text/plain": [
       "     budget  movie_id original_language  \\\n",
       "0  30000000       862                en   \n",
       "1  65000000      8844                en   \n",
       "2         0     15602                en   \n",
       "\n",
       "                                            overview  popularity release_date  \\\n",
       "0  Led by Woody, Andy's toys live happily in his ...   21.946943   1995-10-30   \n",
       "1  When siblings Judy and Peter discover an encha...   17.015539   1995-12-15   \n",
       "2  A family wedding reignites the ancient feud be...     11.7129   1995-12-22   \n",
       "\n",
       "     revenue  runtime             title  vote_average  vote_count  \n",
       "0  373554033       81         Toy Story           7.7        5415  \n",
       "1  262797249      104           Jumanji           6.9        2413  \n",
       "2          0      101  Grumpier Old Men           6.5          92  "
      ]
     },
     "execution_count": 8,
     "metadata": {},
     "output_type": "execute_result"
    }
   ],
   "source": [
    "data_movies_subset_limpia=data_movies_subset.convert_dtypes() # volvemos a evaluar el df\n",
    "data_movies_subset_limpia.info()\n",
    "data_movies_subset_limpia.head(3)"
   ]
  },
  {
   "cell_type": "markdown",
   "metadata": {},
   "source": [
    "3. Eliminar los valores nulos del campo 'release_date'."
   ]
  },
  {
   "cell_type": "code",
   "execution_count": 9,
   "metadata": {},
   "outputs": [
    {
     "name": "stdout",
     "output_type": "stream",
     "text": [
      "Cantidad de valores nulos en ['release_date']: 87\n",
      "Cantidad de valores nulos en ['release_date'] despues del drop: 0\n"
     ]
    }
   ],
   "source": [
    "# instruccion 1: Los valores nulos del campo release date deben eliminarse\n",
    "data_movies_subset_limpia['release_date'].isna().any()\n",
    "print(\"Cantidad de valores nulos en ['release_date']:\",\n",
    "    data_movies_subset_limpia.loc[data_movies_subset_limpia['release_date'].isna()].shape[0])\n",
    "data_movies_subset_limpia['release_date'].isna()\n",
    "rows_release_date_na = data_movies_subset_limpia.loc[data_movies_subset_limpia['release_date'].isna()].index\n",
    "data_movies_subset_limpia.drop(rows_release_date_na, inplace=True)\n",
    "print(\"Cantidad de valores nulos en ['release_date'] despues del drop:\",\n",
    "    data_movies_subset_limpia.loc[data_movies_subset_limpia['release_date'].isna()].shape[0])\n",
    "#Crear el 'release_year'\n",
    "data_movies_subset_limpia['release_year'] = data_movies_subset_limpia['release_date'].dt.year"
   ]
  },
  {
   "cell_type": "markdown",
   "metadata": {},
   "source": [
    "4. Eliminar los valores nulos de los campos 'revenue', 'budget' deben ser rellenados por el número 0."
   ]
  },
  {
   "cell_type": "code",
   "execution_count": 10,
   "metadata": {},
   "outputs": [
    {
     "data": {
      "text/plain": [
       "budget     0\n",
       "revenue    0\n",
       "dtype: int64"
      ]
     },
     "execution_count": 10,
     "metadata": {},
     "output_type": "execute_result"
    }
   ],
   "source": [
    "# Reemplazar valores nulo de las columnas 'revenue' y 'budget' con \"0\"\n",
    "data_movies_subset['revenue'] = data_movies_subset['revenue'].fillna(0)\n",
    "data_movies_subset['budget'] = data_movies_subset['budget'].fillna(0)\n",
    "# Cantidad de valores nulos en ['budget','revenue']\n",
    "data_movies_subset[['budget','revenue']].isna().sum()"
   ]
  },
  {
   "cell_type": "markdown",
   "metadata": {},
   "source": [
    "5. Crear el campo 'return' con los campos 'revenue' y 'budget', dividiendo estas dos últimas revenue / budget, cuando no hay datos disponibles para calcularlo, deberá tomar el valor 0."
   ]
  },
  {
   "cell_type": "code",
   "execution_count": 11,
   "metadata": {},
   "outputs": [
    {
     "name": "stdout",
     "output_type": "stream",
     "text": [
      "<class 'pandas.core.frame.DataFrame'>\n",
      "Index: 45376 entries, 0 to 45465\n",
      "Data columns (total 13 columns):\n",
      " #   Column             Non-Null Count  Dtype         \n",
      "---  ------             --------------  -----         \n",
      " 0   budget             45376 non-null  Int64         \n",
      " 1   movie_id           45376 non-null  Int64         \n",
      " 2   original_language  45365 non-null  string        \n",
      " 3   overview           44435 non-null  string        \n",
      " 4   popularity         45376 non-null  Float64       \n",
      " 5   release_date       45376 non-null  datetime64[ns]\n",
      " 6   revenue            45376 non-null  Int64         \n",
      " 7   runtime            45130 non-null  Int64         \n",
      " 8   title              45376 non-null  string        \n",
      " 9   vote_average       45376 non-null  Float64       \n",
      " 10  vote_count         45376 non-null  Int64         \n",
      " 11  release_year       45376 non-null  int32         \n",
      " 12  return             45376 non-null  Float64       \n",
      "dtypes: Float64(3), Int64(5), datetime64[ns](1), int32(1), string(3)\n",
      "memory usage: 5.0 MB\n",
      "Hay valores nulos en cualquiera de ['revenue','budget','return']: False\n"
     ]
    }
   ],
   "source": [
    "#Creación de columna 'return' = 'revenue' / 'budget'\n",
    "data_movies_subset_limpia['return'] = data_movies_subset_limpia['revenue']/data_movies_subset_limpia['budget']\n",
    "\n",
    "#Reemplazo de valores nulos e indefinidos con '0'\n",
    "data_movies_subset_limpia['return'] = data_movies_subset_limpia['return'].replace([np.inf, -np.inf], 0).fillna(0)\n",
    "data_movies_subset_limpia.info()\n",
    "\n",
    "print(\"Hay valores nulos en cualquiera de ['revenue','budget','return']:\", any(data_movies_subset_limpia[['revenue','budget','return']].isna().any()))\n"
   ]
  },
  {
   "cell_type": "code",
   "execution_count": 12,
   "metadata": {},
   "outputs": [
    {
     "name": "stdout",
     "output_type": "stream",
     "text": [
      "Numero de peliculas unicas: 45346 \n",
      "\n",
      "Numero de registros (filas): 45359 \n",
      "\n",
      "Numero de peliculas con informacion inconsiste: 13 \n",
      "\n"
     ]
    }
   ],
   "source": [
    "# Removemos duplicados\n",
    "data_movies_subset_limpia.drop_duplicates(inplace=True) # no funciona; deben existir filas que no son exactamente iguales.\n",
    "print(\"Numero de peliculas unicas:\",data_movies_subset_limpia['movie_id'].nunique(),\"\\n\")\n",
    "print(\"Numero de registros (filas):\",data_movies_subset_limpia.shape[0],\"\\n\")\n",
    "print(\"Numero de peliculas con informacion inconsiste:\",data_movies_subset_limpia.shape[0]-data_movies_subset_limpia['movie_id'].nunique(),\"\\n\")"
   ]
  },
  {
   "cell_type": "code",
   "execution_count": 13,
   "metadata": {},
   "outputs": [
    {
     "name": "stdout",
     "output_type": "stream",
     "text": [
      "Numero de filas con informacion duplicada en algunas columnas: 26\n",
      "Numero de peliculas unicas con informacion duplicadas en algunas columnas: 13\n"
     ]
    },
    {
     "data": {
      "text/html": [
       "<div>\n",
       "<style scoped>\n",
       "    .dataframe tbody tr th:only-of-type {\n",
       "        vertical-align: middle;\n",
       "    }\n",
       "\n",
       "    .dataframe tbody tr th {\n",
       "        vertical-align: top;\n",
       "    }\n",
       "\n",
       "    .dataframe thead th {\n",
       "        text-align: right;\n",
       "    }\n",
       "</style>\n",
       "<table border=\"1\" class=\"dataframe\">\n",
       "  <thead>\n",
       "    <tr style=\"text-align: right;\">\n",
       "      <th></th>\n",
       "      <th>budget</th>\n",
       "      <th>movie_id</th>\n",
       "      <th>original_language</th>\n",
       "      <th>overview</th>\n",
       "      <th>popularity</th>\n",
       "      <th>release_date</th>\n",
       "      <th>revenue</th>\n",
       "      <th>runtime</th>\n",
       "      <th>title</th>\n",
       "      <th>vote_average</th>\n",
       "      <th>vote_count</th>\n",
       "      <th>release_year</th>\n",
       "      <th>return</th>\n",
       "    </tr>\n",
       "  </thead>\n",
       "  <tbody>\n",
       "    <tr>\n",
       "      <th>5865</th>\n",
       "      <td>30000000</td>\n",
       "      <td>4912</td>\n",
       "      <td>en</td>\n",
       "      <td>Television made him famous, but his biggest hi...</td>\n",
       "      <td>11.331072</td>\n",
       "      <td>2002-12-30</td>\n",
       "      <td>33013805</td>\n",
       "      <td>113</td>\n",
       "      <td>Confessions of a Dangerous Mind</td>\n",
       "      <td>6.6</td>\n",
       "      <td>281</td>\n",
       "      <td>2002</td>\n",
       "      <td>1.10046</td>\n",
       "    </tr>\n",
       "    <tr>\n",
       "      <th>33826</th>\n",
       "      <td>30000000</td>\n",
       "      <td>4912</td>\n",
       "      <td>en</td>\n",
       "      <td>Television made him famous, but his biggest hi...</td>\n",
       "      <td>7.645827</td>\n",
       "      <td>2002-12-30</td>\n",
       "      <td>33013805</td>\n",
       "      <td>113</td>\n",
       "      <td>Confessions of a Dangerous Mind</td>\n",
       "      <td>6.6</td>\n",
       "      <td>281</td>\n",
       "      <td>2002</td>\n",
       "      <td>1.10046</td>\n",
       "    </tr>\n",
       "    <tr>\n",
       "      <th>44821</th>\n",
       "      <td>16000000</td>\n",
       "      <td>10991</td>\n",
       "      <td>ja</td>\n",
       "      <td>When Molly Hale's sadness of her father's disa...</td>\n",
       "      <td>6.480376</td>\n",
       "      <td>2000-07-08</td>\n",
       "      <td>68411275</td>\n",
       "      <td>93</td>\n",
       "      <td>Pokémon: Spell of the Unknown</td>\n",
       "      <td>6.0</td>\n",
       "      <td>144</td>\n",
       "      <td>2000</td>\n",
       "      <td>4.275705</td>\n",
       "    </tr>\n",
       "    <tr>\n",
       "      <th>4114</th>\n",
       "      <td>16000000</td>\n",
       "      <td>10991</td>\n",
       "      <td>ja</td>\n",
       "      <td>When Molly Hale's sadness of her father's disa...</td>\n",
       "      <td>10.264597</td>\n",
       "      <td>2000-07-08</td>\n",
       "      <td>68411275</td>\n",
       "      <td>93</td>\n",
       "      <td>Pokémon: Spell of the Unknown</td>\n",
       "      <td>6.0</td>\n",
       "      <td>143</td>\n",
       "      <td>2000</td>\n",
       "      <td>4.275705</td>\n",
       "    </tr>\n",
       "  </tbody>\n",
       "</table>\n",
       "</div>"
      ],
      "text/plain": [
       "         budget  movie_id original_language  \\\n",
       "5865   30000000      4912                en   \n",
       "33826  30000000      4912                en   \n",
       "44821  16000000     10991                ja   \n",
       "4114   16000000     10991                ja   \n",
       "\n",
       "                                                overview  popularity  \\\n",
       "5865   Television made him famous, but his biggest hi...   11.331072   \n",
       "33826  Television made him famous, but his biggest hi...    7.645827   \n",
       "44821  When Molly Hale's sadness of her father's disa...    6.480376   \n",
       "4114   When Molly Hale's sadness of her father's disa...   10.264597   \n",
       "\n",
       "      release_date   revenue  runtime                            title  \\\n",
       "5865    2002-12-30  33013805      113  Confessions of a Dangerous Mind   \n",
       "33826   2002-12-30  33013805      113  Confessions of a Dangerous Mind   \n",
       "44821   2000-07-08  68411275       93    Pokémon: Spell of the Unknown   \n",
       "4114    2000-07-08  68411275       93    Pokémon: Spell of the Unknown   \n",
       "\n",
       "       vote_average  vote_count  release_year    return  \n",
       "5865            6.6         281          2002   1.10046  \n",
       "33826           6.6         281          2002   1.10046  \n",
       "44821           6.0         144          2000  4.275705  \n",
       "4114            6.0         143          2000  4.275705  "
      ]
     },
     "execution_count": 13,
     "metadata": {},
     "output_type": "execute_result"
    }
   ],
   "source": [
    "# para una misma pelicula existen valores distintos.\n",
    "data_movies_subset_inconsistent=data_movies_subset_limpia.loc[data_movies_subset_limpia.duplicated(subset=['movie_id'], keep=False)]\n",
    "print(\"Numero de filas con informacion duplicada en algunas columnas:\",\n",
    "    data_movies_subset_inconsistent.shape[0])\n",
    "print(\"Numero de peliculas unicas con informacion duplicadas en algunas columnas:\",\n",
    "    data_movies_subset_inconsistent['movie_id'].nunique())\n",
    "data_movies_subset_inconsistent.sort_values(['movie_id']).head(4)"
   ]
  },
  {
   "cell_type": "code",
   "execution_count": 14,
   "metadata": {},
   "outputs": [
    {
     "name": "stdout",
     "output_type": "stream",
     "text": [
      "Numero de peliculas unicas: 45346 \n",
      "\n",
      "Numero de registros (filas): 45346 \n",
      "\n",
      "Numero de peliculas con informacion inconsiste: 0 \n",
      "\n"
     ]
    }
   ],
   "source": [
    "# Solucionamos tomando la primera entrada para cada pelicula, y descartamos el resto.\n",
    "data_movies_subset_limpia_sindups=data_movies_subset_limpia.loc[~data_movies_subset_limpia.duplicated(subset=['movie_id'], keep='first')]\n",
    "print(\"Numero de peliculas unicas:\",data_movies_subset_limpia_sindups['movie_id'].nunique(),\"\\n\")\n",
    "print(\"Numero de registros (filas):\",data_movies_subset_limpia_sindups.shape[0],\"\\n\")\n",
    "print(\"Numero de peliculas con informacion inconsiste:\",\n",
    "      data_movies_subset_limpia_sindups.shape[0]-data_movies_subset_limpia_sindups['movie_id'].nunique(),\"\\n\")"
   ]
  },
  {
   "cell_type": "markdown",
   "metadata": {},
   "source": [
    "Guardamos el dataset limpio"
   ]
  },
  {
   "cell_type": "code",
   "execution_count": 15,
   "metadata": {},
   "outputs": [
    {
     "name": "stdout",
     "output_type": "stream",
     "text": [
      "Universo de peliculas con datos unicos: 45346 \n",
      "\n",
      "<class 'pandas.core.frame.DataFrame'>\n",
      "Index: 45346 entries, 0 to 45465\n",
      "Data columns (total 13 columns):\n",
      " #   Column             Non-Null Count  Dtype         \n",
      "---  ------             --------------  -----         \n",
      " 0   budget             45346 non-null  Int64         \n",
      " 1   movie_id           45346 non-null  Int64         \n",
      " 2   original_language  45335 non-null  string        \n",
      " 3   overview           44405 non-null  string        \n",
      " 4   popularity         45346 non-null  Float64       \n",
      " 5   release_date       45346 non-null  datetime64[ns]\n",
      " 6   revenue            45346 non-null  Int64         \n",
      " 7   runtime            45100 non-null  Int64         \n",
      " 8   title              45346 non-null  string        \n",
      " 9   vote_average       45346 non-null  Float64       \n",
      " 10  vote_count         45346 non-null  Int64         \n",
      " 11  release_year       45346 non-null  int32         \n",
      " 12  return             45346 non-null  Float64       \n",
      "dtypes: Float64(3), Int64(5), datetime64[ns](1), int32(1), string(3)\n",
      "memory usage: 5.0 MB\n"
     ]
    },
    {
     "data": {
      "text/html": [
       "<div>\n",
       "<style scoped>\n",
       "    .dataframe tbody tr th:only-of-type {\n",
       "        vertical-align: middle;\n",
       "    }\n",
       "\n",
       "    .dataframe tbody tr th {\n",
       "        vertical-align: top;\n",
       "    }\n",
       "\n",
       "    .dataframe thead th {\n",
       "        text-align: right;\n",
       "    }\n",
       "</style>\n",
       "<table border=\"1\" class=\"dataframe\">\n",
       "  <thead>\n",
       "    <tr style=\"text-align: right;\">\n",
       "      <th></th>\n",
       "      <th>budget</th>\n",
       "      <th>movie_id</th>\n",
       "      <th>original_language</th>\n",
       "      <th>overview</th>\n",
       "      <th>popularity</th>\n",
       "      <th>release_date</th>\n",
       "      <th>revenue</th>\n",
       "      <th>runtime</th>\n",
       "      <th>title</th>\n",
       "      <th>vote_average</th>\n",
       "      <th>vote_count</th>\n",
       "      <th>release_year</th>\n",
       "      <th>return</th>\n",
       "    </tr>\n",
       "  </thead>\n",
       "  <tbody>\n",
       "    <tr>\n",
       "      <th>0</th>\n",
       "      <td>30000000</td>\n",
       "      <td>862</td>\n",
       "      <td>en</td>\n",
       "      <td>Led by Woody, Andy's toys live happily in his ...</td>\n",
       "      <td>21.946943</td>\n",
       "      <td>1995-10-30</td>\n",
       "      <td>373554033</td>\n",
       "      <td>81</td>\n",
       "      <td>Toy Story</td>\n",
       "      <td>7.7</td>\n",
       "      <td>5415</td>\n",
       "      <td>1995</td>\n",
       "      <td>12.451801</td>\n",
       "    </tr>\n",
       "    <tr>\n",
       "      <th>1</th>\n",
       "      <td>65000000</td>\n",
       "      <td>8844</td>\n",
       "      <td>en</td>\n",
       "      <td>When siblings Judy and Peter discover an encha...</td>\n",
       "      <td>17.015539</td>\n",
       "      <td>1995-12-15</td>\n",
       "      <td>262797249</td>\n",
       "      <td>104</td>\n",
       "      <td>Jumanji</td>\n",
       "      <td>6.9</td>\n",
       "      <td>2413</td>\n",
       "      <td>1995</td>\n",
       "      <td>4.043035</td>\n",
       "    </tr>\n",
       "  </tbody>\n",
       "</table>\n",
       "</div>"
      ],
      "text/plain": [
       "     budget  movie_id original_language  \\\n",
       "0  30000000       862                en   \n",
       "1  65000000      8844                en   \n",
       "\n",
       "                                            overview  popularity release_date  \\\n",
       "0  Led by Woody, Andy's toys live happily in his ...   21.946943   1995-10-30   \n",
       "1  When siblings Judy and Peter discover an encha...   17.015539   1995-12-15   \n",
       "\n",
       "     revenue  runtime      title  vote_average  vote_count  release_year  \\\n",
       "0  373554033       81  Toy Story           7.7        5415          1995   \n",
       "1  262797249      104    Jumanji           6.9        2413          1995   \n",
       "\n",
       "      return  \n",
       "0  12.451801  \n",
       "1   4.043035  "
      ]
     },
     "execution_count": 15,
     "metadata": {},
     "output_type": "execute_result"
    }
   ],
   "source": [
    "# Nuestro dataset final\n",
    "print(\"Universo de peliculas con datos unicos:\",data_movies_subset_limpia_sindups['movie_id'].nunique(),\"\\n\")\n",
    "data_movies_subset_limpia_sindups.to_csv(os.path.join(\"D:\\Bootcamp\\Henry\\CURSO\\Proyecto Individual 1\\Movies\\Pipeline\",\"data_movies_subset_limpia.csv\"))\n",
    "data_movies_subset_limpia_sindups.info()\n",
    "data_movies_subset_limpia_sindups.head(2)"
   ]
  }
 ],
 "metadata": {
  "kernelspec": {
   "display_name": "Python 3",
   "language": "python",
   "name": "python3"
  },
  "language_info": {
   "codemirror_mode": {
    "name": "ipython",
    "version": 3
   },
   "file_extension": ".py",
   "mimetype": "text/x-python",
   "name": "python",
   "nbconvert_exporter": "python",
   "pygments_lexer": "ipython3",
   "version": "3.9.13"
  }
 },
 "nbformat": 4,
 "nbformat_minor": 2
}
